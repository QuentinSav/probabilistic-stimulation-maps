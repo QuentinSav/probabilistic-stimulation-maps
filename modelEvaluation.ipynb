{
 "cells": [
  {
   "cell_type": "code",
   "source": [],
   "metadata": {
    "collapsed": false,
    "pycharm": {
     "name": "#%%\n"
    }
   },
   "execution_count": null,
   "outputs": []
  },
  {
   "cell_type": "code",
   "execution_count": 4,
   "id": "84847eda-1cd5-4cb5-8470-5a8e6884d05d",
   "metadata": {},
   "outputs": [],
   "source": [
    "import numpy as np\n",
    "import pandas as pd\n",
    "import matplotlib.pyplot as plt\n",
    "import scipy.io\n",
    "import sklearn\n",
    "from matplotlib import cm\n",
    "from sklearn.linear_model import LogisticRegression\n",
    "from sklearn.linear_model import LinearRegression\n",
    "from sklearn.model_selection import train_test_split\n",
    "\n",
    "import matplotlib.transforms as mtransforms"
   ]
  },
  {
   "cell_type": "code",
   "execution_count": 5,
   "id": "867335d4-d63e-4506-83d5-3091ccb52e7b",
   "metadata": {},
   "outputs": [],
   "source": [
    "FONT_TITLE_PLOT = {'family': 'sans-serif', \n",
    "                   'name': 'time',\n",
    "                   'color':  'black', \n",
    "                   'weight': 'normal', \n",
    "                   'size': 14} \n",
    "\n",
    "FONT_LABEL_PLOT = {'family': 'sans-serif', \n",
    "                   'name': 'time',\n",
    "                   'color':  'black', \n",
    "                   'weight': 'normal', \n",
    "                   'size': 12} \n",
    "\n",
    "FONT_LEGEND_PLOT = {'family': 'sans-serif', \n",
    "                    'name': 'time',\n",
    "                    'color':  'black', \n",
    "                    'weight': 'normal', \n",
    "                    'size': 12} \n"
   ]
  },
  {
   "cell_type": "markdown",
   "id": "31751492-db95-4247-b4b3-f271a23c7f75",
   "metadata": {},
   "source": [
    "# Data import and partition"
   ]
  },
  {
   "cell_type": "markdown",
   "id": "61412f9d-f4be-48e5-86ea-8880fd12909b",
   "metadata": {},
   "source": [
    "The data have already been preprocessed using the matlab class PSM (using the generateExportData function)."
   ]
  },
  {
   "cell_type": "markdown",
   "id": "757ec432-c4c6-46b0-a747-a047ed1823f5",
   "metadata": {},
   "source": [
    "## Preprocessed data import"
   ]
  },
  {
   "cell_type": "code",
   "execution_count": 6,
   "id": "fabulous-announcement",
   "metadata": {
    "tags": []
   },
   "outputs": [],
   "source": [
    "# Load VTAs and table\n",
    "table = pd.read_csv('table.csv')\n",
    "data = scipy.io.loadmat('data.mat')\n",
    "X = np.array(data['X'])\n",
    "y = np.array(data['y'])\n",
    "\n",
    "SHAPE = tuple(data['shape'][0, :])"
   ]
  },
  {
   "cell_type": "markdown",
   "id": "077f59ca-5fa2-4267-9be8-95b2a71af6f5",
   "metadata": {},
   "source": [
    "## Create partitions of training and testing sets"
   ]
  },
  {
   "cell_type": "markdown",
   "id": "b5e474fa-2ed0-4ff5-b566-d15b7cef3d1b",
   "metadata": {},
   "source": [
    "The dataset is now split into the training and the testing set. In this script, no cross-validation will be performed."
   ]
  },
  {
   "cell_type": "code",
   "execution_count": 7,
   "id": "8276b5b0-2394-48a7-b50c-596fca8a70f4",
   "metadata": {},
   "outputs": [],
   "source": [
    "X_train, X_test, y_train, y_test = train_test_split(X, y, test_size=0.5, random_state=42)"
   ]
  },
  {
   "cell_type": "markdown",
   "id": "81ef8d07-1463-4e3a-812a-06803b84a337",
   "metadata": {},
   "source": [
    "# Plot functions\n",
    "\n",
    "Before going into the generation of the maps, this section creates function useful to observe and compare the probabilistic maps."
   ]
  },
  {
   "cell_type": "markdown",
   "id": "956f060d-9926-4f8a-be9f-604c6429e8cb",
   "metadata": {},
   "source": [
    "## Map plot"
   ]
  },
  {
   "cell_type": "code",
   "execution_count": 8,
   "id": "c050464a-a528-481b-acfd-560c2d528a99",
   "metadata": {},
   "outputs": [],
   "source": [
    "# Functions plot a 3D array in a well presented style\n",
    "# From matplotlib-3d notebook (unknown author)\n",
    "\n",
    "def normalize(arr):\n",
    "    arr_min = np.min(arr)\n",
    "    return (arr-arr_min)/(np.max(arr)-arr_min)\n"
   ]
  },
  {
   "cell_type": "code",
   "execution_count": 9,
   "id": "f302c2c3-a11f-4f37-8488-2ba1e681718f",
   "metadata": {},
   "outputs": [],
   "source": [
    "# Function used to visualize the different models\n",
    "\n",
    "def plot_map(model, \n",
    "             dim='2D', \n",
    "             plane='axial', \n",
    "             slice_index=int(SHAPE[2]/2), \n",
    "             view_angle=320, \n",
    "             marker='dot'):\n",
    "    \n",
    "    coef_tensor = reconstruct(model.coef_)\n",
    "    \n",
    "    if dim == '2D':\n",
    "        plot_slice(coef_tensor, slice_index, plane)\n",
    "        \n",
    "    elif dim == '3D':\n",
    "        plot_cube(coef_tensor, view_angle, marker)\n",
    "        \n",
    "    \n",
    "def reconstruct(vector):\n",
    "    # Function to reconstruct a vector into tensor based on the container shape\n",
    "    \n",
    "    vector = vector[1:]\n",
    "    tensor = np.reshape(vector, SHAPE, order='F')\n",
    "    \n",
    "    return tensor\n",
    "    \n",
    "def plot_slice(tensor, slice_index, plane):\n",
    "    # Function to plot a slice of the map on a 2D figure\n",
    "    \n",
    "    fig = plt.figure(figsize=(10/2.54, 10/2.54))\n",
    "    ax = plt.axes()\n",
    "    \n",
    "    if plane == 'axial':\n",
    "        plt.imshow(tensor[:, :, slice_index], cmap='coolwarm')\n",
    "        ax.set_xlabel('coronal', fontdict=FONT_LABEL_PLOT)\n",
    "        ax.set_ylabel('sagital', fontdict=FONT_LABEL_PLOT)\n",
    "        \n",
    "    elif plane == 'sagital':\n",
    "        plt.imshow(tensor[:, slice_index, :], cmap='coolwarm')\n",
    "        ax.set_xlabel('coronal', fontdict=FONT_LABEL_PLOT)\n",
    "        ax.set_ylabel('axial', fontdict=FONT_LABEL_PLOT)\n",
    "        \n",
    "    elif plane == 'coronal':\n",
    "        plt.imshow(tensor[slice_index, :, :], cmap='coolwarm')\n",
    "        ax.set_xlabel('sagital', fontdict=FONT_LABEL_PLOT)\n",
    "        ax.set_ylabel('axial', fontdict=FONT_LABEL_PLOT)\n",
    "        \n",
    "    plt.show()\n",
    "\n",
    "def plot_cube(cube, view_angle):\n",
    "\n",
    "    colors = cm.viridis(cube)\n",
    "    colors[:,:,:,-1] = cube\n",
    "\n",
    "    filled = cube != 0\n",
    "    xx, yy, zz = np.indices(np.array(filled.shape)+1)\n",
    "\n",
    "    fig = plt.figure(figsize=(30/2.54, 30/2.54))\n",
    "    ax = plt.axes(projection='3d')\n",
    "    ax.view_init(30, view_angle)\n",
    "    ax.set_xlim(right=SHAPE[0])\n",
    "    ax.set_ylim(top=SHAPE[1])\n",
    "    ax.set_zlim(top=SHAPE[2])\n",
    "\n",
    "    #ax.voxels(xx, yy, zz, colors, alpha=filled)\n",
    "    ax.voxels(xx, yy, zz, filled, facecolors=colors, edgecolor='k', shade=False)\n",
    "    \n",
    "    plt.show()"
   ]
  },
  {
   "cell_type": "markdown",
   "id": "593e3b4e-e7c2-421a-8ff5-6a09c0bdaba4",
   "metadata": {},
   "source": [
    "## Results plot"
   ]
  },
  {
   "cell_type": "code",
   "execution_count": 11,
   "id": "fb1dcd7f-efab-4188-baa0-43de54c271de",
   "metadata": {},
   "outputs": [],
   "source": [
    "# Function used to visualize the accuracy of a model on testing and training data\n",
    "\n",
    "def plot_results(model, X_test, y_test, X_train, y_train):\n",
    "    \n",
    "    pred_test = model.predict(X_test)\n",
    "    pred_train = model.predict(X_train)\n",
    "    \n",
    "    fig, (ax1, ax2) = plt.subplots(1, 2)\n",
    "    fig.suptitle('Horizontally stacked subplots')\n",
    "    ax1.scatter(pred_test, y_test)\n",
    "    ax2.scatter(pred_train, y_train)\n",
    "    \n",
    "    print(R2_test)\n",
    "    "
   ]
  },
  {
   "cell_type": "markdown",
   "id": "8b257ab7-0135-4486-92fa-5e8314c7e16a",
   "metadata": {
    "tags": []
   },
   "source": [
    "### Reconstruction of a VTA"
   ]
  },
  {
   "cell_type": "markdown",
   "id": "a9eedf23-348f-44f9-905e-20e412ab419b",
   "metadata": {},
   "source": [
    "As the data (the VTA voxels values) are provided under a vectorized form, it is necessary to be able to reconstruct the map. The first feature of the matrix is the intercept term and is cannot be displayed with the rest of the map voxels."
   ]
  },
  {
   "cell_type": "code",
   "execution_count": 12,
   "id": "9f909187-59b8-48f7-8dff-aae1f8159d1d",
   "metadata": {},
   "outputs": [
    {
     "ename": "AttributeError",
     "evalue": "'numpy.ndarray' object has no attribute 'coef_'",
     "output_type": "error",
     "traceback": [
      "\u001B[0;31m---------------------------------------------------------------------------\u001B[0m",
      "\u001B[0;31mAttributeError\u001B[0m                            Traceback (most recent call last)",
      "\u001B[0;32m<ipython-input-12-351e6d2b3446>\u001B[0m in \u001B[0;36m<module>\u001B[0;34m\u001B[0m\n\u001B[1;32m      2\u001B[0m \u001B[0mVTA_tensor\u001B[0m \u001B[0;34m=\u001B[0m \u001B[0mnp\u001B[0m\u001B[0;34m.\u001B[0m\u001B[0mreshape\u001B[0m\u001B[0;34m(\u001B[0m\u001B[0mVTA_vector\u001B[0m\u001B[0;34m,\u001B[0m \u001B[0mSHAPE\u001B[0m\u001B[0;34m,\u001B[0m \u001B[0morder\u001B[0m\u001B[0;34m=\u001B[0m\u001B[0;34m'F'\u001B[0m\u001B[0;34m)\u001B[0m\u001B[0;34m\u001B[0m\u001B[0;34m\u001B[0m\u001B[0m\n\u001B[1;32m      3\u001B[0m \u001B[0;34m\u001B[0m\u001B[0m\n\u001B[0;32m----> 4\u001B[0;31m \u001B[0mplot_map\u001B[0m\u001B[0;34m(\u001B[0m\u001B[0mVTA_tensor\u001B[0m\u001B[0;34m,\u001B[0m \u001B[0mdim\u001B[0m\u001B[0;34m=\u001B[0m\u001B[0;34m'3D'\u001B[0m\u001B[0;34m)\u001B[0m\u001B[0;34m\u001B[0m\u001B[0;34m\u001B[0m\u001B[0m\n\u001B[0m",
      "\u001B[0;32m<ipython-input-9-cd68de9e1f2b>\u001B[0m in \u001B[0;36mplot_map\u001B[0;34m(model, dim, plane, slice_index, view_angle, marker)\u001B[0m\n\u001B[1;32m      8\u001B[0m              marker='dot'):\n\u001B[1;32m      9\u001B[0m \u001B[0;34m\u001B[0m\u001B[0m\n\u001B[0;32m---> 10\u001B[0;31m     \u001B[0mcoef_tensor\u001B[0m \u001B[0;34m=\u001B[0m \u001B[0mreconstruct\u001B[0m\u001B[0;34m(\u001B[0m\u001B[0mmodel\u001B[0m\u001B[0;34m.\u001B[0m\u001B[0mcoef_\u001B[0m\u001B[0;34m)\u001B[0m\u001B[0;34m\u001B[0m\u001B[0;34m\u001B[0m\u001B[0m\n\u001B[0m\u001B[1;32m     11\u001B[0m \u001B[0;34m\u001B[0m\u001B[0m\n\u001B[1;32m     12\u001B[0m     \u001B[0;32mif\u001B[0m \u001B[0mdim\u001B[0m \u001B[0;34m==\u001B[0m \u001B[0;34m'2D'\u001B[0m\u001B[0;34m:\u001B[0m\u001B[0;34m\u001B[0m\u001B[0;34m\u001B[0m\u001B[0m\n",
      "\u001B[0;31mAttributeError\u001B[0m: 'numpy.ndarray' object has no attribute 'coef_'"
     ]
    }
   ],
   "source": [
    "VTA_vector = X[2, 1:]\n",
    "VTA_tensor = np.reshape(VTA_vector, SHAPE, order='F')\n",
    "\n",
    "plot_map(VTA_tensor, dim='3D')"
   ]
  },
  {
   "cell_type": "markdown",
   "id": "1e45549a-ad42-47c0-b0c5-4aebc9673166",
   "metadata": {},
   "source": [
    "# Probabilistic Stimulation Map for deep brain stimulation"
   ]
  },
  {
   "cell_type": "markdown",
   "id": "noble-context",
   "metadata": {},
   "source": [
    "\n",
    "\n",
    "first, I need to know wether it is a variance or a bias problem\n",
    "to be assessed:\n",
    "    - basic logistic regression\n",
    "    - l1, l2 regularized logistic regression\n",
    "    - bagging\n",
    "    "
   ]
  },
  {
   "cell_type": "markdown",
   "id": "b85ef5c0-60c6-4a29-bf9f-a28bb597a16d",
   "metadata": {},
   "source": [
    "## Linear regression"
   ]
  },
  {
   "cell_type": "code",
   "execution_count": 13,
   "id": "complicated-optimization",
   "metadata": {},
   "outputs": [],
   "source": [
    "#model = LogisticRegression(C=0.1, penalty=\"l1\", tol=0.01, solver=\"saga\", verbose=1)\n",
    "\n",
    "model = LinearRegression()\n",
    "model = model.fit(X_train, np.squeeze(y_train.T))\n"
   ]
  },
  {
   "cell_type": "code",
   "execution_count": 12,
   "id": "94dcaeed-2d94-46b6-8230-857c26812bd2",
   "metadata": {},
   "outputs": [
    {
     "data": {
      "text/plain": [
       "<matplotlib.collections.PathCollection at 0x7f7c3464ae90>"
      ]
     },
     "execution_count": 12,
     "metadata": {},
     "output_type": "execute_result"
    },
    {
     "data": {
      "image/png": "[encoded data removed]",
      "text/plain": [
       "<Figure size 432x288 with 2 Axes>"
      ]
     },
     "metadata": {
      "needs_background": "light"
     },
     "output_type": "display_data"
    }
   ],
   "source": [
    "plot_results(model, X_test, y_test, X_train, y_train)"
   ]
  },
  {
   "cell_type": "code",
   "execution_count": 67,
   "id": "2fa9a402-8c12-44ab-bc1f-6c8542db609f",
   "metadata": {
    "tags": []
   },
   "outputs": [
    {
     "data": {
      "image/png": "[encoded data removed]",
      "text/plain": [
       "<Figure size 283.465x283.465 with 1 Axes>"
      ]
     },
     "metadata": {
      "needs_background": "light"
     },
     "output_type": "display_data"
    }
   ],
   "source": [
    "plot_map(model)"
   ]
  },
  {
   "cell_type": "markdown",
   "id": "81add4a6-1e86-4652-bca3-9d25915d1e97",
   "metadata": {},
   "source": [
    "## Lasso regression"
   ]
  },
  {
   "cell_type": "code",
   "execution_count": 54,
   "id": "660eb56a-5e3e-47a5-b7f5-e2b1b29590ba",
   "metadata": {},
   "outputs": [
    {
     "name": "stderr",
     "output_type": "stream",
     "text": [
      "/home/brainstimmaps/.conda/envs/PSM/lib/python3.7/site-packages/sklearn/linear_model/_coordinate_descent.py:531: ConvergenceWarning: Objective did not converge. You might want to increase the number of iterations. Duality gap: 0.03256863183174896, tolerance: 0.006825595915544075\n",
      "  positive)\n"
     ]
    }
   ],
   "source": [
    "from sklearn.linear_model import Lasso\n",
    "\n",
    "model = Lasso(alpha = 0.0001, max_iter=1e4)\n",
    "model = model.fit(X_train, np.squeeze(y_train.T))\n",
    "\n",
    "pred_test = model.predict(X_test)\n",
    "pred_train = model.predict(X_train)\n"
   ]
  },
  {
   "cell_type": "code",
   "execution_count": 55,
   "id": "c06b7d35-a916-4f2d-b43f-fde7d5a6e39c",
   "metadata": {},
   "outputs": [
    {
     "data": {
      "text/plain": [
       "<matplotlib.collections.PathCollection at 0x7f5da7646f10>"
      ]
     },
     "execution_count": 55,
     "metadata": {},
     "output_type": "execute_result"
    },
    {
     "data": {
      "image/png": "[encoded data removed]",
      "text/plain": [
       "<Figure size 432x288 with 2 Axes>"
      ]
     },
     "metadata": {
      "needs_background": "light"
     },
     "output_type": "display_data"
    }
   ],
   "source": [
    "fig, (ax1, ax2) = plt.subplots(1, 2)\n",
    "\n",
    "fig.suptitle('Horizontally stacked subplots')\n",
    "ax1.scatter(pred_test, y_test)\n",
    "ax2.scatter(pred_train, y_train)"
   ]
  },
  {
   "cell_type": "markdown",
   "id": "0ac451df-8ec2-423a-b340-178a2cded2d4",
   "metadata": {},
   "source": [
    "## Logistic Regression"
   ]
  },
  {
   "cell_type": "code",
   "execution_count": 45,
   "id": "b0a6020d-c090-4cd0-a4b8-ad369cba1f21",
   "metadata": {},
   "outputs": [
    {
     "name": "stderr",
     "output_type": "stream",
     "text": [
      "<ipython-input-45-6a0f141bbd68>:7: RuntimeWarning: divide by zero encountered in true_divide\n",
      "  y = np.log(p / (1 - p))\n",
      "<ipython-input-45-6a0f141bbd68>:7: RuntimeWarning: divide by zero encountered in log\n",
      "  y = np.log(p / (1 - p))\n",
      "/home/quentin/miniconda3/lib/python3.9/site-packages/numpy/core/fromnumeric.py:86: RuntimeWarning: invalid value encountered in reduce\n",
      "  return ufunc.reduce(obj, axis, dtype, out, **passkwargs)\n"
     ]
    },
    {
     "ename": "ValueError",
     "evalue": "Input contains NaN, infinity or a value too large for dtype('<f4').",
     "output_type": "error",
     "traceback": [
      "\u001B[0;31m---------------------------------------------------------------------------\u001B[0m",
      "\u001B[0;31mValueError\u001B[0m                                Traceback (most recent call last)",
      "\u001B[0;32m<ipython-input-45-6a0f141bbd68>\u001B[0m in \u001B[0;36m<module>\u001B[0;34m\u001B[0m\n\u001B[1;32m     13\u001B[0m \u001B[0;34m\u001B[0m\u001B[0m\n\u001B[1;32m     14\u001B[0m \u001B[0mmodel\u001B[0m \u001B[0;34m=\u001B[0m \u001B[0mLogitRegression\u001B[0m\u001B[0;34m(\u001B[0m\u001B[0;34m)\u001B[0m\u001B[0;34m\u001B[0m\u001B[0;34m\u001B[0m\u001B[0m\n\u001B[0;32m---> 15\u001B[0;31m \u001B[0mmodel\u001B[0m\u001B[0;34m.\u001B[0m\u001B[0mfit\u001B[0m\u001B[0;34m(\u001B[0m\u001B[0mX\u001B[0m\u001B[0;34m,\u001B[0m \u001B[0mnp\u001B[0m\u001B[0;34m.\u001B[0m\u001B[0msqueeze\u001B[0m\u001B[0;34m(\u001B[0m\u001B[0my\u001B[0m\u001B[0;34m.\u001B[0m\u001B[0mT\u001B[0m\u001B[0;34m)\u001B[0m\u001B[0;34m)\u001B[0m\u001B[0;34m\u001B[0m\u001B[0;34m\u001B[0m\u001B[0m\n\u001B[0m",
      "\u001B[0;32m<ipython-input-45-6a0f141bbd68>\u001B[0m in \u001B[0;36mfit\u001B[0;34m(self, x, p)\u001B[0m\n\u001B[1;32m      6\u001B[0m         \u001B[0mp\u001B[0m \u001B[0;34m=\u001B[0m \u001B[0mnp\u001B[0m\u001B[0;34m.\u001B[0m\u001B[0masarray\u001B[0m\u001B[0;34m(\u001B[0m\u001B[0mp\u001B[0m\u001B[0;34m)\u001B[0m\u001B[0;34m\u001B[0m\u001B[0;34m\u001B[0m\u001B[0m\n\u001B[1;32m      7\u001B[0m         \u001B[0my\u001B[0m \u001B[0;34m=\u001B[0m \u001B[0mnp\u001B[0m\u001B[0;34m.\u001B[0m\u001B[0mlog\u001B[0m\u001B[0;34m(\u001B[0m\u001B[0mp\u001B[0m \u001B[0;34m/\u001B[0m \u001B[0;34m(\u001B[0m\u001B[0;36m1\u001B[0m \u001B[0;34m-\u001B[0m \u001B[0mp\u001B[0m\u001B[0;34m)\u001B[0m\u001B[0;34m)\u001B[0m\u001B[0;34m\u001B[0m\u001B[0;34m\u001B[0m\u001B[0m\n\u001B[0;32m----> 8\u001B[0;31m         \u001B[0;32mreturn\u001B[0m \u001B[0msuper\u001B[0m\u001B[0;34m(\u001B[0m\u001B[0;34m)\u001B[0m\u001B[0;34m.\u001B[0m\u001B[0mfit\u001B[0m\u001B[0;34m(\u001B[0m\u001B[0mx\u001B[0m\u001B[0;34m,\u001B[0m \u001B[0my\u001B[0m\u001B[0;34m)\u001B[0m\u001B[0;34m\u001B[0m\u001B[0;34m\u001B[0m\u001B[0m\n\u001B[0m\u001B[1;32m      9\u001B[0m \u001B[0;34m\u001B[0m\u001B[0m\n\u001B[1;32m     10\u001B[0m     \u001B[0;32mdef\u001B[0m \u001B[0mpredict\u001B[0m\u001B[0;34m(\u001B[0m\u001B[0mself\u001B[0m\u001B[0;34m,\u001B[0m \u001B[0mx\u001B[0m\u001B[0;34m)\u001B[0m\u001B[0;34m:\u001B[0m\u001B[0;34m\u001B[0m\u001B[0;34m\u001B[0m\u001B[0m\n",
      "\u001B[0;32m~/miniconda3/lib/python3.9/site-packages/sklearn/linear_model/_base.py\u001B[0m in \u001B[0;36mfit\u001B[0;34m(self, X, y, sample_weight)\u001B[0m\n\u001B[1;32m    660\u001B[0m         \u001B[0maccept_sparse\u001B[0m \u001B[0;34m=\u001B[0m \u001B[0;32mFalse\u001B[0m \u001B[0;32mif\u001B[0m \u001B[0mself\u001B[0m\u001B[0;34m.\u001B[0m\u001B[0mpositive\u001B[0m \u001B[0;32melse\u001B[0m \u001B[0;34m[\u001B[0m\u001B[0;34m\"csr\"\u001B[0m\u001B[0;34m,\u001B[0m \u001B[0;34m\"csc\"\u001B[0m\u001B[0;34m,\u001B[0m \u001B[0;34m\"coo\"\u001B[0m\u001B[0;34m]\u001B[0m\u001B[0;34m\u001B[0m\u001B[0;34m\u001B[0m\u001B[0m\n\u001B[1;32m    661\u001B[0m \u001B[0;34m\u001B[0m\u001B[0m\n\u001B[0;32m--> 662\u001B[0;31m         X, y = self._validate_data(\n\u001B[0m\u001B[1;32m    663\u001B[0m             \u001B[0mX\u001B[0m\u001B[0;34m,\u001B[0m \u001B[0my\u001B[0m\u001B[0;34m,\u001B[0m \u001B[0maccept_sparse\u001B[0m\u001B[0;34m=\u001B[0m\u001B[0maccept_sparse\u001B[0m\u001B[0;34m,\u001B[0m \u001B[0my_numeric\u001B[0m\u001B[0;34m=\u001B[0m\u001B[0;32mTrue\u001B[0m\u001B[0;34m,\u001B[0m \u001B[0mmulti_output\u001B[0m\u001B[0;34m=\u001B[0m\u001B[0;32mTrue\u001B[0m\u001B[0;34m\u001B[0m\u001B[0;34m\u001B[0m\u001B[0m\n\u001B[1;32m    664\u001B[0m         )\n",
      "\u001B[0;32m~/miniconda3/lib/python3.9/site-packages/sklearn/base.py\u001B[0m in \u001B[0;36m_validate_data\u001B[0;34m(self, X, y, reset, validate_separately, **check_params)\u001B[0m\n\u001B[1;32m    574\u001B[0m                 \u001B[0my\u001B[0m \u001B[0;34m=\u001B[0m \u001B[0mcheck_array\u001B[0m\u001B[0;34m(\u001B[0m\u001B[0my\u001B[0m\u001B[0;34m,\u001B[0m \u001B[0;34m**\u001B[0m\u001B[0mcheck_y_params\u001B[0m\u001B[0;34m)\u001B[0m\u001B[0;34m\u001B[0m\u001B[0;34m\u001B[0m\u001B[0m\n\u001B[1;32m    575\u001B[0m             \u001B[0;32melse\u001B[0m\u001B[0;34m:\u001B[0m\u001B[0;34m\u001B[0m\u001B[0;34m\u001B[0m\u001B[0m\n\u001B[0;32m--> 576\u001B[0;31m                 \u001B[0mX\u001B[0m\u001B[0;34m,\u001B[0m \u001B[0my\u001B[0m \u001B[0;34m=\u001B[0m \u001B[0mcheck_X_y\u001B[0m\u001B[0;34m(\u001B[0m\u001B[0mX\u001B[0m\u001B[0;34m,\u001B[0m \u001B[0my\u001B[0m\u001B[0;34m,\u001B[0m \u001B[0;34m**\u001B[0m\u001B[0mcheck_params\u001B[0m\u001B[0;34m)\u001B[0m\u001B[0;34m\u001B[0m\u001B[0;34m\u001B[0m\u001B[0m\n\u001B[0m\u001B[1;32m    577\u001B[0m             \u001B[0mout\u001B[0m \u001B[0;34m=\u001B[0m \u001B[0mX\u001B[0m\u001B[0;34m,\u001B[0m \u001B[0my\u001B[0m\u001B[0;34m\u001B[0m\u001B[0;34m\u001B[0m\u001B[0m\n\u001B[1;32m    578\u001B[0m \u001B[0;34m\u001B[0m\u001B[0m\n",
      "\u001B[0;32m~/miniconda3/lib/python3.9/site-packages/sklearn/utils/validation.py\u001B[0m in \u001B[0;36mcheck_X_y\u001B[0;34m(X, y, accept_sparse, accept_large_sparse, dtype, order, copy, force_all_finite, ensure_2d, allow_nd, multi_output, ensure_min_samples, ensure_min_features, y_numeric, estimator)\u001B[0m\n\u001B[1;32m    969\u001B[0m     )\n\u001B[1;32m    970\u001B[0m \u001B[0;34m\u001B[0m\u001B[0m\n\u001B[0;32m--> 971\u001B[0;31m     \u001B[0my\u001B[0m \u001B[0;34m=\u001B[0m \u001B[0m_check_y\u001B[0m\u001B[0;34m(\u001B[0m\u001B[0my\u001B[0m\u001B[0;34m,\u001B[0m \u001B[0mmulti_output\u001B[0m\u001B[0;34m=\u001B[0m\u001B[0mmulti_output\u001B[0m\u001B[0;34m,\u001B[0m \u001B[0my_numeric\u001B[0m\u001B[0;34m=\u001B[0m\u001B[0my_numeric\u001B[0m\u001B[0;34m)\u001B[0m\u001B[0;34m\u001B[0m\u001B[0;34m\u001B[0m\u001B[0m\n\u001B[0m\u001B[1;32m    972\u001B[0m \u001B[0;34m\u001B[0m\u001B[0m\n\u001B[1;32m    973\u001B[0m     \u001B[0mcheck_consistent_length\u001B[0m\u001B[0;34m(\u001B[0m\u001B[0mX\u001B[0m\u001B[0;34m,\u001B[0m \u001B[0my\u001B[0m\u001B[0;34m)\u001B[0m\u001B[0;34m\u001B[0m\u001B[0;34m\u001B[0m\u001B[0m\n",
      "\u001B[0;32m~/miniconda3/lib/python3.9/site-packages/sklearn/utils/validation.py\u001B[0m in \u001B[0;36m_check_y\u001B[0;34m(y, multi_output, y_numeric)\u001B[0m\n\u001B[1;32m    979\u001B[0m     \u001B[0;34m\"\"\"Isolated part of check_X_y dedicated to y validation\"\"\"\u001B[0m\u001B[0;34m\u001B[0m\u001B[0;34m\u001B[0m\u001B[0m\n\u001B[1;32m    980\u001B[0m     \u001B[0;32mif\u001B[0m \u001B[0mmulti_output\u001B[0m\u001B[0;34m:\u001B[0m\u001B[0;34m\u001B[0m\u001B[0;34m\u001B[0m\u001B[0m\n\u001B[0;32m--> 981\u001B[0;31m         y = check_array(\n\u001B[0m\u001B[1;32m    982\u001B[0m             \u001B[0my\u001B[0m\u001B[0;34m,\u001B[0m \u001B[0maccept_sparse\u001B[0m\u001B[0;34m=\u001B[0m\u001B[0;34m\"csr\"\u001B[0m\u001B[0;34m,\u001B[0m \u001B[0mforce_all_finite\u001B[0m\u001B[0;34m=\u001B[0m\u001B[0;32mTrue\u001B[0m\u001B[0;34m,\u001B[0m \u001B[0mensure_2d\u001B[0m\u001B[0;34m=\u001B[0m\u001B[0;32mFalse\u001B[0m\u001B[0;34m,\u001B[0m \u001B[0mdtype\u001B[0m\u001B[0;34m=\u001B[0m\u001B[0;32mNone\u001B[0m\u001B[0;34m\u001B[0m\u001B[0;34m\u001B[0m\u001B[0m\n\u001B[1;32m    983\u001B[0m         )\n",
      "\u001B[0;32m~/miniconda3/lib/python3.9/site-packages/sklearn/utils/validation.py\u001B[0m in \u001B[0;36mcheck_array\u001B[0;34m(array, accept_sparse, accept_large_sparse, dtype, order, copy, force_all_finite, ensure_2d, allow_nd, ensure_min_samples, ensure_min_features, estimator)\u001B[0m\n\u001B[1;32m    790\u001B[0m \u001B[0;34m\u001B[0m\u001B[0m\n\u001B[1;32m    791\u001B[0m         \u001B[0;32mif\u001B[0m \u001B[0mforce_all_finite\u001B[0m\u001B[0;34m:\u001B[0m\u001B[0;34m\u001B[0m\u001B[0;34m\u001B[0m\u001B[0m\n\u001B[0;32m--> 792\u001B[0;31m             \u001B[0m_assert_all_finite\u001B[0m\u001B[0;34m(\u001B[0m\u001B[0marray\u001B[0m\u001B[0;34m,\u001B[0m \u001B[0mallow_nan\u001B[0m\u001B[0;34m=\u001B[0m\u001B[0mforce_all_finite\u001B[0m \u001B[0;34m==\u001B[0m \u001B[0;34m\"allow-nan\"\u001B[0m\u001B[0;34m)\u001B[0m\u001B[0;34m\u001B[0m\u001B[0;34m\u001B[0m\u001B[0m\n\u001B[0m\u001B[1;32m    793\u001B[0m \u001B[0;34m\u001B[0m\u001B[0m\n\u001B[1;32m    794\u001B[0m     \u001B[0;32mif\u001B[0m \u001B[0mensure_min_samples\u001B[0m \u001B[0;34m>\u001B[0m \u001B[0;36m0\u001B[0m\u001B[0;34m:\u001B[0m\u001B[0;34m\u001B[0m\u001B[0;34m\u001B[0m\u001B[0m\n",
      "\u001B[0;32m~/miniconda3/lib/python3.9/site-packages/sklearn/utils/validation.py\u001B[0m in \u001B[0;36m_assert_all_finite\u001B[0;34m(X, allow_nan, msg_dtype)\u001B[0m\n\u001B[1;32m    112\u001B[0m         ):\n\u001B[1;32m    113\u001B[0m             \u001B[0mtype_err\u001B[0m \u001B[0;34m=\u001B[0m \u001B[0;34m\"infinity\"\u001B[0m \u001B[0;32mif\u001B[0m \u001B[0mallow_nan\u001B[0m \u001B[0;32melse\u001B[0m \u001B[0;34m\"NaN, infinity\"\u001B[0m\u001B[0;34m\u001B[0m\u001B[0;34m\u001B[0m\u001B[0m\n\u001B[0;32m--> 114\u001B[0;31m             raise ValueError(\n\u001B[0m\u001B[1;32m    115\u001B[0m                 msg_err.format(\n\u001B[1;32m    116\u001B[0m                     \u001B[0mtype_err\u001B[0m\u001B[0;34m,\u001B[0m \u001B[0mmsg_dtype\u001B[0m \u001B[0;32mif\u001B[0m \u001B[0mmsg_dtype\u001B[0m \u001B[0;32mis\u001B[0m \u001B[0;32mnot\u001B[0m \u001B[0;32mNone\u001B[0m \u001B[0;32melse\u001B[0m \u001B[0mX\u001B[0m\u001B[0;34m.\u001B[0m\u001B[0mdtype\u001B[0m\u001B[0;34m\u001B[0m\u001B[0;34m\u001B[0m\u001B[0m\n",
      "\u001B[0;31mValueError\u001B[0m: Input contains NaN, infinity or a value too large for dtype('<f4')."
     ]
    }
   ],
   "source": [
    "from sklearn.linear_model import LinearRegression\n",
    "\n",
    "class LogitRegression(LinearRegression):\n",
    "\n",
    "    def fit(self, x, p):\n",
    "        p = np.asarray(p)\n",
    "        y = np.log(p / (1 - p))\n",
    "        return super().fit(x, y)\n",
    "\n",
    "    def predict(self, x):\n",
    "        y = super().predict(x)\n",
    "        return 1 / (np.exp(-y) + 1)\n",
    "\n",
    "model = LogitRegression()\n",
    "model.fit(X, np.squeeze(y.T))"
   ]
  },
  {
   "cell_type": "code",
   "execution_count": null,
   "id": "emerging-tension",
   "metadata": {},
   "outputs": [],
   "source": []
  }
 ],
 "metadata": {
  "kernelspec": {
   "display_name": "Python 3",
   "language": "python",
   "name": "python3"
  },
  "language_info": {
   "codemirror_mode": {
    "name": "ipython",
    "version": 3
   },
   "file_extension": ".py",
   "mimetype": "text/x-python",
   "name": "python",
   "nbconvert_exporter": "python",
   "pygments_lexer": "ipython3",
   "version": "3.7.9"
  },
  "toc-autonumbering": true,
  "toc-showmarkdowntxt": false
 },
 "nbformat": 4,
 "nbformat_minor": 5
}