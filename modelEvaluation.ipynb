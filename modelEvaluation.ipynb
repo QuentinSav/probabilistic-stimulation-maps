{
 "cells": [
  {
   "cell_type": "code",
   "source": [],
   "metadata": {
    "collapsed": false,
    "pycharm": {
     "name": "#%%\n"
    }
   },
   "execution_count": 51,
   "outputs": []
  },
  {
   "cell_type": "code",
   "execution_count": 52,
   "id": "84847eda-1cd5-4cb5-8470-5a8e6884d05d",
   "metadata": {},
   "outputs": [],
   "source": [
    "import numpy as np\n",
    "import matplotlib.pyplot as plt\n",
    "import scipy.io\n",
    "import nibabel as nib\n",
    "from matplotlib import cm\n",
    "from sklearn.linear_model import LinearRegression\n",
    "from sklearn.model_selection import train_test_split\n",
    "import matplotlib.transforms as mtransforms"
   ]
  },
  {
   "cell_type": "code",
   "execution_count": 53,
   "id": "867335d4-d63e-4506-83d5-3091ccb52e7b",
   "metadata": {},
   "outputs": [],
   "source": [
    "FONT_TITLE_PLOT = {'family': 'sans-serif', \n",
    "                   'name': 'time',\n",
    "                   'color':  'black', \n",
    "                   'weight': 'normal', \n",
    "                   'size': 14} \n",
    "\n",
    "FONT_LABEL_PLOT = {'family': 'sans-serif', \n",
    "                   'name': 'time',\n",
    "                   'color':  'black', \n",
    "                   'weight': 'normal', \n",
    "                   'size': 12} \n",
    "\n",
    "FONT_LEGEND_PLOT = {'family': 'sans-serif', \n",
    "                    'name': 'time',\n",
    "                    'color':  'black', \n",
    "                    'weight': 'normal', \n",
    "                    'size': 12}\n"
   ]
  },
  {
   "cell_type": "markdown",
   "id": "31751492-db95-4247-b4b3-f271a23c7f75",
   "metadata": {},
   "source": [
    "# Data import and partition"
   ]
  },
  {
   "cell_type": "markdown",
   "id": "61412f9d-f4be-48e5-86ea-8880fd12909b",
   "metadata": {},
   "source": [
    "The data have already been preprocessed using the matlab class PSM (using the generateExportData function)."
   ]
  },
  {
   "cell_type": "code",
   "execution_count": 53,
   "outputs": [],
   "source": [],
   "metadata": {
    "collapsed": false,
    "pycharm": {
     "name": "#%%\n"
    }
   }
  },
  {
   "cell_type": "markdown",
   "id": "757ec432-c4c6-46b0-a747-a047ed1823f5",
   "metadata": {},
   "source": [
    "## Preprocessed data import"
   ]
  },
  {
   "cell_type": "code",
   "execution_count": 54,
   "id": "fabulous-announcement",
   "metadata": {
    "tags": []
   },
   "outputs": [],
   "source": [
    "# Load vectorized VTA matrix\n",
    "data = scipy.io.loadmat('data.mat')\n",
    "X = np.array(data['X'])\n",
    "y = np.array(data['y'])\n",
    "\n",
    "# Load template container\n",
    "container = nib.load('container.nii')\n",
    "\n",
    "# Load STN polygon\n",
    "\n",
    "\n",
    "# Assign global variable\n",
    "CONTAINER_AFFINE = container.affine\n",
    "CONTAINER_SHAPE = container.shape"
   ]
  },
  {
   "cell_type": "markdown",
   "id": "077f59ca-5fa2-4267-9be8-95b2a71af6f5",
   "metadata": {},
   "source": [
    "## Create partitions of training and testing sets"
   ]
  },
  {
   "cell_type": "markdown",
   "id": "b5e474fa-2ed0-4ff5-b566-d15b7cef3d1b",
   "metadata": {},
   "source": [
    "The dataset is now split into the training and the testing set. In this script, no cross-validation will be performed."
   ]
  },
  {
   "cell_type": "code",
   "execution_count": 55,
   "id": "8276b5b0-2394-48a7-b50c-596fca8a70f4",
   "metadata": {},
   "outputs": [],
   "source": [
    "X_train, X_test, y_train, y_test = train_test_split(X, y, test_size=0.5, random_state=42)"
   ]
  },
  {
   "cell_type": "markdown",
   "id": "81ef8d07-1463-4e3a-812a-06803b84a337",
   "metadata": {},
   "source": [
    "# Plot functions\n",
    "\n",
    "Before going into the generation of the maps, this section creates function useful to observe and compare the probabilistic maps."
   ]
  },
  {
   "cell_type": "markdown",
   "id": "956f060d-9926-4f8a-be9f-604c6429e8cb",
   "metadata": {},
   "source": [
    "## Map plot"
   ]
  },
  {
   "cell_type": "code",
   "execution_count": 56,
   "id": "c050464a-a528-481b-acfd-560c2d528a99",
   "metadata": {},
   "outputs": [],
   "source": [
    "# Functions plot a 3D array in a well presented style\n",
    "# From matplotlib-3d notebook (unknown author)\n",
    "\n",
    "def normalize(arr):\n",
    "    arr_min = np.min(arr)\n",
    "    return (arr-arr_min)/(np.max(arr)-arr_min)\n"
   ]
  },
  {
   "cell_type": "code",
   "execution_count": 57,
   "id": "f302c2c3-a11f-4f37-8488-2ba1e681718f",
   "metadata": {},
   "outputs": [],
   "source": [
    "# Function used to visualize the different models\n",
    "\n",
    "def plot_map(model, \n",
    "             dim='2D', \n",
    "             plane='axial', \n",
    "             slice_index=int(CONTAINER_SHAPE[2]/2),\n",
    "             view_angle=320, \n",
    "             marker='dot'):\n",
    "    \n",
    "    coef_tensor = reconstruct(model.coef_)\n",
    "    \n",
    "    if dim == '2D':\n",
    "        plot_slice(coef_tensor, slice_index, plane)\n",
    "        \n",
    "    elif dim == '3D':\n",
    "        plot_cube(coef_tensor, view_angle, marker)\n",
    "\n",
    "\n",
    "def reconstruct(vector):\n",
    "    # Function to reconstruct a vector into tensor based on the container shape\n",
    "\n",
    "    intercept = vector[0]\n",
    "    vector = vector[1:]\n",
    "    tensor = np.reshape(vector, CONTAINER_SHAPE, order='F')\n",
    "    \n",
    "    return tensor, intercept\n",
    "    \n",
    "def plot_slice(tensor, slice_index, plane):\n",
    "    # Function to plot a slice of the map on a 2D figure\n",
    "    \n",
    "    fig = plt.figure(figsize=(10/2.54, 10/2.54))\n",
    "    ax = plt.axes()\n",
    "    \n",
    "    if plane == 'axial':\n",
    "        plt.imshow(tensor[:, :, slice_index], cmap='coolwarm')\n",
    "        ax.set_xlabel('coronal', fontdict=FONT_LABEL_PLOT)\n",
    "        ax.set_ylabel('sagital', fontdict=FONT_LABEL_PLOT)\n",
    "        \n",
    "    elif plane == 'sagital':\n",
    "        plt.imshow(tensor[:, slice_index, :], cmap='coolwarm')\n",
    "        ax.set_xlabel('coronal', fontdict=FONT_LABEL_PLOT)\n",
    "        ax.set_ylabel('axial', fontdict=FONT_LABEL_PLOT)\n",
    "        \n",
    "    elif plane == 'coronal':\n",
    "        plt.imshow(tensor[slice_index, :, :], cmap='coolwarm')\n",
    "        ax.set_xlabel('sagital', fontdict=FONT_LABEL_PLOT)\n",
    "        ax.set_ylabel('axial', fontdict=FONT_LABEL_PLOT)\n",
    "        \n",
    "    plt.show()\n",
    "\n",
    "\n",
    "def plot_cube(cube, view_angle, marker):\n",
    "\n",
    "    colors = cm.viridis(cube)\n",
    "    colors[:,:,:,-1] = cube\n",
    "\n",
    "    filled = cube != 0\n",
    "    xx, yy, zz = np.indices(np.array(filled.shape)+1)\n",
    "\n",
    "    fig = plt.figure(figsize=(30/2.54, 30/2.54))\n",
    "    ax = plt.axes(projection='3d')\n",
    "    ax.view_init(30, view_angle)\n",
    "    ax.set_xlim(right=CONTAINER_SHAPE[0])\n",
    "    ax.set_ylim(top=CONTAINER_SHAPE[1])\n",
    "    ax.set_zlim(top=CONTAINER_SHAPE[2])\n",
    "\n",
    "    #ax.voxels(xx, yy, zz, colors, alpha=filled)\n",
    "    ax.voxels(xx, yy, zz, filled, facecolors=colors, edgecolor='k', shade=False)\n",
    "    \n",
    "    plt.show()"
   ]
  },
  {
   "cell_type": "markdown",
   "id": "593e3b4e-e7c2-421a-8ff5-6a09c0bdaba4",
   "metadata": {},
   "source": [
    "## Results plot\n"
   ]
  },
  {
   "cell_type": "code",
   "execution_count": 93,
   "id": "fb1dcd7f-efab-4188-baa0-43de54c271de",
   "metadata": {},
   "outputs": [],
   "source": [
    "# Function used to visualize the accuracy of a model on testing and training data\n",
    "\n",
    "def plot_results(model, X_test, y_test, X_train, y_train):\n",
    "    \n",
    "    pred_test = model.predict(X_test)\n",
    "    pred_train = model.predict(X_train)\n",
    "    \n",
    "    fig, axs = plt.subplots(1, 2)\n",
    "    fig.set_size_inches(30/2.54, 30/2.54)\n",
    "\n",
    "    axs[0].set_title('Prediction on testing data')\n",
    "    axs[0].scatter(pred_test, y_test, s=8)\n",
    "    axs[0].plot((-1, 2), (-1, 2))\n",
    "    axs[0].set_xlim([-0.05, 1.05])\n",
    "    axs[0].set_ylim([-0.05, 1.05])\n",
    "    axs[0].set_aspect('equal', 'box')\n",
    "\n",
    "\n",
    "    axs[1].set_title('Prediction on training data')\n",
    "    axs[1].scatter(pred_train, y_train, s=8)\n",
    "    axs[1].plot((-1, 2), (-1, 2))\n",
    "    axs[1].set_xlim([-0.05, 1.05])\n",
    "    axs[1].set_ylim([-0.05, 1.05])\n",
    "    axs[1].set_aspect('equal', 'box')\n",
    "\n",
    "\n",
    "    # print(R2_test)"
   ]
  },
  {
   "cell_type": "code",
   "execution_count": 59,
   "outputs": [],
   "source": [
    "def save_map(model):\n",
    "    ni_img = nib.Nifti1Image(model.coef_, CONTAINER_AFFINE)\n",
    "    nib.save(ni_img, 'map.nii.gz')"
   ],
   "metadata": {
    "collapsed": false,
    "pycharm": {
     "name": "#%%\n"
    }
   }
  },
  {
   "cell_type": "markdown",
   "id": "8b257ab7-0135-4486-92fa-5e8314c7e16a",
   "metadata": {
    "tags": []
   },
   "source": [
    "### Reconstruction of a VTA"
   ]
  },
  {
   "cell_type": "markdown",
   "id": "a9eedf23-348f-44f9-905e-20e412ab419b",
   "metadata": {},
   "source": [
    "As the data (the VTA voxels values) are provided under a vectorized form, it is necessary to be able to reconstruct the map. The first feature of the matrix is the intercept term and is cannot be displayed with the rest of the map voxels."
   ]
  },
  {
   "cell_type": "code",
   "execution_count": 60,
   "id": "9f909187-59b8-48f7-8dff-aae1f8159d1d",
   "metadata": {},
   "outputs": [
    {
     "ename": "AttributeError",
     "evalue": "'numpy.ndarray' object has no attribute 'coef_'",
     "output_type": "error",
     "traceback": [
      "\u001B[0;31m---------------------------------------------------------------------------\u001B[0m",
      "\u001B[0;31mAttributeError\u001B[0m                            Traceback (most recent call last)",
      "\u001B[0;32m<ipython-input-60-64b62015fb22>\u001B[0m in \u001B[0;36m<module>\u001B[0;34m\u001B[0m\n\u001B[1;32m      2\u001B[0m \u001B[0mVTA_tensor\u001B[0m \u001B[0;34m=\u001B[0m \u001B[0mnp\u001B[0m\u001B[0;34m.\u001B[0m\u001B[0mreshape\u001B[0m\u001B[0;34m(\u001B[0m\u001B[0mVTA_vector\u001B[0m\u001B[0;34m,\u001B[0m \u001B[0mCONTAINER_SHAPE\u001B[0m\u001B[0;34m,\u001B[0m \u001B[0morder\u001B[0m\u001B[0;34m=\u001B[0m\u001B[0;34m'F'\u001B[0m\u001B[0;34m)\u001B[0m\u001B[0;34m\u001B[0m\u001B[0;34m\u001B[0m\u001B[0m\n\u001B[1;32m      3\u001B[0m \u001B[0;34m\u001B[0m\u001B[0m\n\u001B[0;32m----> 4\u001B[0;31m \u001B[0mplot_map\u001B[0m\u001B[0;34m(\u001B[0m\u001B[0mVTA_tensor\u001B[0m\u001B[0;34m,\u001B[0m \u001B[0mdim\u001B[0m\u001B[0;34m=\u001B[0m\u001B[0;34m'3D'\u001B[0m\u001B[0;34m)\u001B[0m\u001B[0;34m\u001B[0m\u001B[0;34m\u001B[0m\u001B[0m\n\u001B[0m",
      "\u001B[0;32m<ipython-input-57-ecffbfc02b27>\u001B[0m in \u001B[0;36mplot_map\u001B[0;34m(model, dim, plane, slice_index, view_angle, marker)\u001B[0m\n\u001B[1;32m      8\u001B[0m              marker='dot'):\n\u001B[1;32m      9\u001B[0m \u001B[0;34m\u001B[0m\u001B[0m\n\u001B[0;32m---> 10\u001B[0;31m     \u001B[0mcoef_tensor\u001B[0m \u001B[0;34m=\u001B[0m \u001B[0mreconstruct\u001B[0m\u001B[0;34m(\u001B[0m\u001B[0mmodel\u001B[0m\u001B[0;34m.\u001B[0m\u001B[0mcoef_\u001B[0m\u001B[0;34m)\u001B[0m\u001B[0;34m\u001B[0m\u001B[0;34m\u001B[0m\u001B[0m\n\u001B[0m\u001B[1;32m     11\u001B[0m \u001B[0;34m\u001B[0m\u001B[0m\n\u001B[1;32m     12\u001B[0m     \u001B[0;32mif\u001B[0m \u001B[0mdim\u001B[0m \u001B[0;34m==\u001B[0m \u001B[0;34m'2D'\u001B[0m\u001B[0;34m:\u001B[0m\u001B[0;34m\u001B[0m\u001B[0;34m\u001B[0m\u001B[0m\n",
      "\u001B[0;31mAttributeError\u001B[0m: 'numpy.ndarray' object has no attribute 'coef_'"
     ]
    }
   ],
   "source": [
    "VTA_vector = X[2, 1:]\n",
    "VTA_tensor = np.reshape(VTA_vector, CONTAINER_SHAPE, order='F')\n",
    "\n",
    "plot_map(VTA_tensor, dim='3D')"
   ]
  },
  {
   "cell_type": "markdown",
   "id": "1e45549a-ad42-47c0-b0c5-4aebc9673166",
   "metadata": {},
   "source": [
    "# Probabilistic Stimulation for deep brain stimulation"
   ]
  },
  {
   "cell_type": "markdown",
   "id": "noble-context",
   "metadata": {},
   "source": [
    "\n",
    "\n",
    "first, I need to know wether it is a variance or a bias problem\n",
    "to be assessed:\n",
    "    - basic logistic regression\n",
    "    - l1, l2 regularized logistic regression\n",
    "    - bagging\n",
    "    "
   ]
  },
  {
   "cell_type": "markdown",
   "id": "b85ef5c0-60c6-4a29-bf9f-a28bb597a16d",
   "metadata": {},
   "source": [
    "## Linear regression"
   ]
  },
  {
   "cell_type": "code",
   "execution_count": null,
   "id": "complicated-optimization",
   "metadata": {},
   "outputs": [],
   "source": [
    "#model = LogisticRegression(C=0.1, penalty=\"l1\", tol=0.01, solver=\"saga\", verbose=1)\n",
    "\n",
    "model = LinearRegression()\n",
    "model = model.fit(X_train, np.squeeze(y_train.T))\n"
   ]
  },
  {
   "cell_type": "code",
   "execution_count": 94,
   "id": "94dcaeed-2d94-46b6-8230-857c26812bd2",
   "metadata": {},
   "outputs": [
    {
     "data": {
      "text/plain": "<Figure size 850.394x850.394 with 2 Axes>",
      "image/png": "[encoded data removed]"
     },
     "metadata": {
      "needs_background": "light"
     },
     "output_type": "display_data"
    }
   ],
   "source": [
    "plot_results(model, X_test, y_test, X_train, y_train)"
   ]
  },
  {
   "cell_type": "code",
   "execution_count": 62,
   "id": "2fa9a402-8c12-44ab-bc1f-6c8542db609f",
   "metadata": {
    "tags": []
   },
   "outputs": [
    {
     "name": "stdout",
     "output_type": "stream",
     "text": [
      "38\n"
     ]
    },
    {
     "ename": "TypeError",
     "evalue": "tuple indices must be integers or slices, not tuple",
     "output_type": "error",
     "traceback": [
      "\u001B[0;31m---------------------------------------------------------------------------\u001B[0m",
      "\u001B[0;31mTypeError\u001B[0m                                 Traceback (most recent call last)",
      "\u001B[0;32m<ipython-input-62-b77771bcdd1c>\u001B[0m in \u001B[0;36m<module>\u001B[0;34m\u001B[0m\n\u001B[0;32m----> 1\u001B[0;31m \u001B[0mplot_map\u001B[0m\u001B[0;34m(\u001B[0m\u001B[0mmodel\u001B[0m\u001B[0;34m)\u001B[0m\u001B[0;34m\u001B[0m\u001B[0;34m\u001B[0m\u001B[0m\n\u001B[0m",
      "\u001B[0;32m<ipython-input-57-ecffbfc02b27>\u001B[0m in \u001B[0;36mplot_map\u001B[0;34m(model, dim, plane, slice_index, view_angle, marker)\u001B[0m\n\u001B[1;32m     11\u001B[0m \u001B[0;34m\u001B[0m\u001B[0m\n\u001B[1;32m     12\u001B[0m     \u001B[0;32mif\u001B[0m \u001B[0mdim\u001B[0m \u001B[0;34m==\u001B[0m \u001B[0;34m'2D'\u001B[0m\u001B[0;34m:\u001B[0m\u001B[0;34m\u001B[0m\u001B[0;34m\u001B[0m\u001B[0m\n\u001B[0;32m---> 13\u001B[0;31m         \u001B[0mplot_slice\u001B[0m\u001B[0;34m(\u001B[0m\u001B[0mcoef_tensor\u001B[0m\u001B[0;34m,\u001B[0m \u001B[0mslice_index\u001B[0m\u001B[0;34m,\u001B[0m \u001B[0mplane\u001B[0m\u001B[0;34m)\u001B[0m\u001B[0;34m\u001B[0m\u001B[0;34m\u001B[0m\u001B[0m\n\u001B[0m\u001B[1;32m     14\u001B[0m \u001B[0;34m\u001B[0m\u001B[0m\n\u001B[1;32m     15\u001B[0m     \u001B[0;32melif\u001B[0m \u001B[0mdim\u001B[0m \u001B[0;34m==\u001B[0m \u001B[0;34m'3D'\u001B[0m\u001B[0;34m:\u001B[0m\u001B[0;34m\u001B[0m\u001B[0;34m\u001B[0m\u001B[0m\n",
      "\u001B[0;32m<ipython-input-57-ecffbfc02b27>\u001B[0m in \u001B[0;36mplot_slice\u001B[0;34m(tensor, slice_index, plane)\u001B[0m\n\u001B[1;32m     34\u001B[0m     \u001B[0;32mif\u001B[0m \u001B[0mplane\u001B[0m \u001B[0;34m==\u001B[0m \u001B[0;34m'axial'\u001B[0m\u001B[0;34m:\u001B[0m\u001B[0;34m\u001B[0m\u001B[0;34m\u001B[0m\u001B[0m\n\u001B[1;32m     35\u001B[0m         \u001B[0mprint\u001B[0m\u001B[0;34m(\u001B[0m\u001B[0mslice_index\u001B[0m\u001B[0;34m)\u001B[0m\u001B[0;34m\u001B[0m\u001B[0;34m\u001B[0m\u001B[0m\n\u001B[0;32m---> 36\u001B[0;31m         \u001B[0mplt\u001B[0m\u001B[0;34m.\u001B[0m\u001B[0mimshow\u001B[0m\u001B[0;34m(\u001B[0m\u001B[0mtensor\u001B[0m\u001B[0;34m[\u001B[0m\u001B[0;34m:\u001B[0m\u001B[0;34m,\u001B[0m \u001B[0;34m:\u001B[0m\u001B[0;34m,\u001B[0m \u001B[0mslice_index\u001B[0m\u001B[0;34m]\u001B[0m\u001B[0;34m,\u001B[0m \u001B[0mcmap\u001B[0m\u001B[0;34m=\u001B[0m\u001B[0;34m'coolwarm'\u001B[0m\u001B[0;34m)\u001B[0m\u001B[0;34m\u001B[0m\u001B[0;34m\u001B[0m\u001B[0m\n\u001B[0m\u001B[1;32m     37\u001B[0m         \u001B[0max\u001B[0m\u001B[0;34m.\u001B[0m\u001B[0mset_xlabel\u001B[0m\u001B[0;34m(\u001B[0m\u001B[0;34m'coronal'\u001B[0m\u001B[0;34m,\u001B[0m \u001B[0mfontdict\u001B[0m\u001B[0;34m=\u001B[0m\u001B[0mFONT_LABEL_PLOT\u001B[0m\u001B[0;34m)\u001B[0m\u001B[0;34m\u001B[0m\u001B[0;34m\u001B[0m\u001B[0m\n\u001B[1;32m     38\u001B[0m         \u001B[0max\u001B[0m\u001B[0;34m.\u001B[0m\u001B[0mset_ylabel\u001B[0m\u001B[0;34m(\u001B[0m\u001B[0;34m'sagital'\u001B[0m\u001B[0;34m,\u001B[0m \u001B[0mfontdict\u001B[0m\u001B[0;34m=\u001B[0m\u001B[0mFONT_LABEL_PLOT\u001B[0m\u001B[0;34m)\u001B[0m\u001B[0;34m\u001B[0m\u001B[0;34m\u001B[0m\u001B[0m\n",
      "\u001B[0;31mTypeError\u001B[0m: tuple indices must be integers or slices, not tuple"
     ]
    },
    {
     "data": {
      "text/plain": "<Figure size 283.465x283.465 with 1 Axes>",
      "image/png": "[encoded data removed]"
     },
     "metadata": {
      "needs_background": "light"
     },
     "output_type": "display_data"
    }
   ],
   "source": [
    "plot_map(model)"
   ]
  },
  {
   "cell_type": "markdown",
   "id": "81add4a6-1e86-4652-bca3-9d25915d1e97",
   "metadata": {},
   "source": [
    "## Lasso regression"
   ]
  },
  {
   "cell_type": "code",
   "execution_count": null,
   "id": "660eb56a-5e3e-47a5-b7f5-e2b1b29590ba",
   "metadata": {},
   "outputs": [],
   "source": [
    "from sklearn.linear_model import Lasso\n",
    "\n",
    "model = Lasso(alpha = 0.0001, max_iter=1e4)\n",
    "model = model.fit(X_train, np.squeeze(y_train.T))\n",
    "\n",
    "pred_test = model.predict(X_test)\n",
    "pred_train = model.predict(X_train)\n"
   ]
  },
  {
   "cell_type": "code",
   "execution_count": null,
   "id": "c06b7d35-a916-4f2d-b43f-fde7d5a6e39c",
   "metadata": {},
   "outputs": [],
   "source": [
    "fig, (ax1, ax2) = plt.subplots(1, 2)\n",
    "\n",
    "fig.suptitle('Horizontally stacked subplots')\n",
    "ax1.scatter(pred_test, y_test)\n",
    "ax2.scatter(pred_train, y_train)"
   ]
  },
  {
   "cell_type": "markdown",
   "id": "0ac451df-8ec2-423a-b340-178a2cded2d4",
   "metadata": {},
   "source": [
    "## Logistic Regression"
   ]
  },
  {
   "cell_type": "code",
   "execution_count": null,
   "id": "b0a6020d-c090-4cd0-a4b8-ad369cba1f21",
   "metadata": {},
   "outputs": [],
   "source": [
    "from sklearn.linear_model import LinearRegression\n",
    "\n",
    "class LogitRegression(LinearRegression):\n",
    "\n",
    "    def fit(self, x, p):\n",
    "        p = np.asarray(p)\n",
    "        y = np.log(p / (1 - p))\n",
    "        return super().fit(x, y)\n",
    "\n",
    "    def predict(self, x):\n",
    "        y = super().predict(x)\n",
    "        return 1 / (np.exp(-y) + 1)\n",
    "\n",
    "model = LogitRegression()\n",
    "model.fit(X, np.squeeze(y.T))"
   ]
  },
  {
   "cell_type": "code",
   "execution_count": null,
   "id": "emerging-tension",
   "metadata": {},
   "outputs": [],
   "source": []
  }
 ],
 "metadata": {
  "kernelspec": {
   "display_name": "Python 3",
   "language": "python",
   "name": "python3"
  },
  "language_info": {
   "codemirror_mode": {
    "name": "ipython",
    "version": 3
   },
   "file_extension": ".py",
   "mimetype": "text/x-python",
   "name": "python",
   "nbconvert_exporter": "python",
   "pygments_lexer": "ipython3",
   "version": "3.7.9"
  },
  "toc-autonumbering": true,
  "toc-showmarkdowntxt": false
 },
 "nbformat": 4,
 "nbformat_minor": 5
}