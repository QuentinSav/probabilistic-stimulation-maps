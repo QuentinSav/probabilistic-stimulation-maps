{
 "cells": [
  {
   "cell_type": "code",
   "execution_count": 1,
   "outputs": [],
   "source": [
    "import numpy as np\n",
    "import matplotlib.pyplot as plt\n",
    "import nibabel as nib\n",
    "import pandas as pd\n",
    "import pickle\n",
    "import spam.kalisphera"
   ],
   "metadata": {
    "collapsed": false,
    "pycharm": {
     "name": "#%%\n"
    }
   }
  },
  {
   "cell_type": "markdown",
   "source": [
    "# Classes\n",
    "## SyntheticVTA"
   ],
   "metadata": {
    "collapsed": false,
    "pycharm": {
     "name": "#%% md\n"
    }
   }
  },
  {
   "cell_type": "code",
   "execution_count": 5,
   "outputs": [],
   "source": [
    "class SyntheticVTA:\n",
    "    \"\"\" Represent the synthetic stimulation used for the parameters optimization.\n",
    "    This class contains the amplitude sequences to be assessed, and methods needed to generate synthetic VTA.\"\"\"\n",
    "\n",
    "    # Class constants:\n",
    "    # Coefficients of the stim. amplitude to VTA radius relation\n",
    "    # --- I(r) = a*r² + b*r + c ---\n",
    "    COEF_A = 0.3595\n",
    "    COEF_B = 0.4279\n",
    "    COEF_C = 0\n",
    "\n",
    "    # Coefficient for displacement of center of mass\n",
    "    # --- c(r) = c_0 + v/|v| * gamma * r ---\n",
    "    COEF_GAMMA = 0.1\n",
    "\n",
    "    def __init__(self, psm, c0, is_directional=False):\n",
    "        self.shape = psm.shape\n",
    "        self.voxel_size = psm.transform[1, 1]\n",
    "        self.amplitudes = np.linspace(1, 8, 15)\n",
    "        self.index = -1\n",
    "        self.endFlag = False\n",
    "        self.c0 = c0\n",
    "\n",
    "        #if is_directional:\n",
    "            #self.center = c0 +\n",
    "\n",
    "        # Compute unit direction vector\n",
    "\n",
    "    def set_amp_sequence(self, amplitudes):\n",
    "        self.amplitudes = amplitudes\n",
    "\n",
    "    def next(self) -> bool:\n",
    "        self.index += 1\n",
    "\n",
    "        if self.index >= len(self.amplitudes):\n",
    "            self.index = -1\n",
    "            self.endFlag = True\n",
    "\n",
    "        return self.endFlag\n",
    "\n",
    "    def get_vta(self, disp=False):\n",
    "        # Assign parameters\n",
    "        vta_image = np.zeros(self.shape, dtype=\"<f8\")\n",
    "        vta_amp = self.amplitudes[self.index]\n",
    "        vta_radius = self.current2radius(vta_amp)/self.voxel_size\n",
    "\n",
    "        # Convert back from numpy float to native float (to avoid error in kalisphera)\n",
    "        vta_radius = vta_radius.item()\n",
    "\n",
    "        # Creates the image with synthetic VTA\n",
    "        spam.kalisphera.makeSphere(vta_image, self.center, vta_radius)\n",
    "\n",
    "        if disp:\n",
    "            plt.figure()\n",
    "            plt.imshow(vta_image[vta_image.shape[0] // 2], vmin=0, vmax=1, cmap='Greys_r')\n",
    "            plt.show()\n",
    "\n",
    "        return vta_image, vta_amp\n",
    "\n",
    "    def directional_center(self):\n",
    "        return self.center\n",
    "\n",
    "    @classmethod\n",
    "    def radius2current(cls, radius) -> float:\n",
    "        # Function to obtain the current from the radius (in MNI space) of a VTA\n",
    "        current = cls.COEF_A*np.square(radius) + cls.COEF_B*radius + cls.COEF_C\n",
    "\n",
    "        return current.item()\n",
    "\n",
    "    @classmethod\n",
    "    def current2radius(cls, current) -> float:\n",
    "        # Function to obtain the radius (in MNI space) of a VTA from the current\n",
    "        radius = np.sqrt(current/cls.COEF_A + np.square(cls.COEF_B/(2*cls.COEF_A)) - cls.COEF_C/cls.COEF_A) - (cls.COEF_B/(2*cls.COEF_A))\n",
    "\n",
    "        return radius.item()\n"
   ],
   "metadata": {
    "collapsed": false,
    "pycharm": {
     "name": "#%%\n"
    }
   }
  },
  {
   "cell_type": "markdown",
   "source": [
    "## PSM"
   ],
   "metadata": {
    "collapsed": false,
    "pycharm": {
     "name": "#%% md\n"
    }
   }
  },
  {
   "cell_type": "code",
   "execution_count": 6,
   "outputs": [],
   "source": [
    "class PSM:\n",
    "    \"\"\" Represent a Probabilistic Stimulation Map.\n",
    "    This class is used to handle the PSM and clinical improvement estimation (linear model) based on the map.\"\"\"\n",
    "\n",
    "    def __init__(self, filename):\n",
    "        # Input argument filename shall not have extension!\n",
    "\n",
    "        # Read nifti file\n",
    "        nii = nib.load(filename + '.nii.gz')\n",
    "\n",
    "        # Read pickle file for additional coefficient (intercept and stim. amplitude)\n",
    "        pkl_file = open(filename + '.pkl', 'rb')\n",
    "        dict_coef = pickle.load(pkl_file)\n",
    "        pkl_file.close()\n",
    "\n",
    "        self.coef_intercept = dict_coef['intercept']\n",
    "        self.coef_amplitude = dict_coef['amplitude']\n",
    "        self.coef_image = nii.get_fdata()\n",
    "        self.transform = nii.affine\n",
    "        self.shape = self.coef_image.shape\n",
    "\n",
    "    def estimate(self, VTA):\n",
    "        return np.sum(np.multiply(VTA, self.coef_image), axis=None)\n"
   ],
   "metadata": {
    "collapsed": false,
    "pycharm": {
     "name": "#%%\n"
    }
   }
  },
  {
   "cell_type": "markdown",
   "source": [
    "### LogRegPSM (PSM subclass)"
   ],
   "metadata": {
    "collapsed": false,
    "pycharm": {
     "name": "#%% md\n"
    }
   }
  },
  {
   "cell_type": "code",
   "source": [
    "class LogRegPSM(PSM):\n",
    "    \"\"\" Represent a Probabilistic Stimulation Map with logistic regression.\n",
    "    This subclass extend the PSM class for logistic regression model map.\n",
    "    It includes the overide of the estimate method adapted with the sigmoid link function.\"\"\"\n",
    "\n",
    "    def estimate(self, VTA_image, VTA_amp):\n",
    "        bX_img = np.sum(np.multiply(VTA_image, self.coef_image), axis=None)\n",
    "        bX_amp = VTA_amp * self.coef_amplitude\n",
    "        b0 = self.coef_intercept\n",
    "\n",
    "        return self.sigmoid(bX_img + bX_amp + b0)\n",
    "\n",
    "    @staticmethod\n",
    "    def sigmoid(z):\n",
    "        return 1/(1+np.exp(-z))"
   ],
   "metadata": {
    "collapsed": false,
    "pycharm": {
     "name": "#%%\n"
    }
   },
   "execution_count": 7,
   "outputs": []
  },
  {
   "cell_type": "markdown",
   "source": [
    "## Lead"
   ],
   "metadata": {
    "collapsed": false
   }
  },
  {
   "cell_type": "code",
   "execution_count": 8,
   "outputs": [],
   "source": [
    "class Lead:\n",
    "    OMNIDIR_CONTACTS = [0, 16, 17, 7, 8, 18, 19, 15]\n",
    "    EFFECT_THRESHOLD = 0.99\n",
    "\n",
    "    def __init__(self, df: pd.DataFrame, leadID: float, psm: PSM):\n",
    "\n",
    "        # Set property\n",
    "        self.psm = psm\n",
    "        self.leadID = leadID\n",
    "\n",
    "        # Filter table to keep only the correct lead\n",
    "        df_contacts = df.loc[df.leadID == leadID]\n",
    "        df_contacts.reset_index(drop=True, inplace=True)\n",
    "        df_levels = df_contacts.loc[df_contacts.contactID.isin(self.OMNIDIR_CONTACTS)]\n",
    "        df_levels.reset_index(drop=True, inplace=True)\n",
    "\n",
    "        # Keep the dataframes as property for best level/contact selection\n",
    "        self.df_contacts = df_contacts\n",
    "        self.df_levels = df_levels\n",
    "\n",
    "        # Get the rows of ALL minima\n",
    "        row_best_contact = df_contacts.loc[df_contacts.amplitude == np.min(df_contacts.amplitude)]\n",
    "        row_best_level = df_levels.loc[df_levels.amplitude == np.min(df_levels.amplitude)]\n",
    "\n",
    "        # Get the contact ID\n",
    "        gt_best_contact = row_best_contact['contactID'].to_numpy()\n",
    "        gt_best_level = row_best_level['contactID'].to_numpy()\n",
    "\n",
    "        print('            GT (level) =', gt_best_level)\n",
    "\n",
    "        # Define ground truth as being the smallest effect threshold of the lead\n",
    "        self.groundtruth = {'bestContact':  gt_best_contact,\n",
    "                            'bestLevel':    gt_best_level}\n",
    "\n",
    "    @classmethod\n",
    "    def set_effect_threshold(cls, threshold):\n",
    "        cls.EFFECT_THRESHOLD = threshold\n",
    "\n",
    "    def find_best_level(self):\n",
    "        # Init variable\n",
    "        all_therapeutic_windows = []\n",
    "\n",
    "        for index, level in self.df_levels.iterrows():\n",
    "\n",
    "            print('   Processing level #', level.contactID)\n",
    "            therapeutic_window = self.find_therapeutic_window(level)\n",
    "            all_therapeutic_windows.append(therapeutic_window)\n",
    "\n",
    "            # Feedback to user\n",
    "            print('      Therapeutic window: ', therapeutic_window)\n",
    "\n",
    "        return self.df_levels['contactID'][np.argmin(all_therapeutic_windows)]\n",
    "\n",
    "\n",
    "    def find_best_contact(self, psm):\n",
    "\n",
    "        pass # To be implemented\n",
    "\n",
    "\n",
    "    def find_therapeutic_window(self, level):\n",
    "\n",
    "        # Get the center coordinates in a single array\n",
    "        center_mni = np.array([level.contactCoord_1, level.contactCoord_2, level.contactCoord_3])\n",
    "        center_mni = np.expand_dims(center_mni, axis=1)\n",
    "\n",
    "        # Transform the center in the voxel space\n",
    "        center = homogeneous_transform(center_mni, np.linalg.inv(self.psm.transform), isvector=0)\n",
    "\n",
    "        # Create synthetic VTA object\n",
    "        stim = SyntheticVTA(self.psm, center)\n",
    "\n",
    "        # Init empty list to keep track of scores\n",
    "        scores = []\n",
    "        amplitudes = []\n",
    "\n",
    "        while not stim.next():\n",
    "            # Get the synthetic VTA\n",
    "            vta_image, vta_amp = stim.get_vta()\n",
    "\n",
    "            # Compute estimation\n",
    "            estimated_score = self.psm.estimate(vta_image, vta_amp)\n",
    "\n",
    "            # Feedback to user\n",
    "            print('   - (', vta_amp, ' mA ) Relative improvement = ', estimated_score)\n",
    "\n",
    "            # Check if clinical improvement is higher than defined effect threshold\n",
    "            if estimated_score > self.EFFECT_THRESHOLD:\n",
    "                return vta_amp\n",
    "\n",
    "        # Return none if effect threshold was not reached\n",
    "        return np.inf\n",
    "\n"
   ],
   "metadata": {
    "collapsed": false,
    "pycharm": {
     "name": "#%%\n"
    }
   }
  },
  {
   "cell_type": "markdown",
   "source": [
    "# Functions"
   ],
   "metadata": {
    "collapsed": false,
    "pycharm": {
     "name": "#%% md\n"
    }
   }
  },
  {
   "cell_type": "code",
   "execution_count": 9,
   "outputs": [],
   "source": [
    "def homogeneous_transform(coord, transform, isvector=0):\n",
    "    # Apply transform to the points array p0\n",
    "    # [p1 1]^T = M x [p0 1]^T\n",
    "\n",
    "    if isvector:\n",
    "        coord = np.concatenate((coord, np.zeros((1, coord.shape[1]))), axis=0)\n",
    "    else:\n",
    "        coord = np.concatenate((coord, np.ones((1, coord.shape[1]))), axis=0)\n",
    "\n",
    "    transformed_coord = transform @ coord\n",
    "\n",
    "    return transformed_coord[0:3, :].T"
   ],
   "metadata": {
    "collapsed": false,
    "pycharm": {
     "name": "#%%\n"
    }
   }
  },
  {
   "cell_type": "code",
   "execution_count": 10,
   "outputs": [],
   "source": [
    "def remove_empty_leads(df):\n",
    "    # For best level selection, some leads may contains only directional data and make the pipeline fail. Filter those lead avoid any issue.\n",
    "    omnidir_contact = [0, 16, 17, 7, 8, 18, 19, 15]\n",
    "\n",
    "    for leadID in np.unique(df.leadID):\n",
    "        df_contacts = df.loc[df.leadID == leadID]\n",
    "        df_contacts.reset_index(drop=True, inplace=True)\n",
    "        df_levels = df_contacts.loc[df_contacts.contactID.isin(omnidir_contact)]\n",
    "        df_levels.reset_index(drop=True, inplace=True)\n",
    "\n",
    "        if len(df_levels) == 0:\n",
    "            df = df.drop(np.where(df.leadID == leadID)[0])\n",
    "            df.reset_index(drop=True, inplace=True)\n",
    "\n",
    "    return df"
   ],
   "metadata": {
    "collapsed": false,
    "pycharm": {
     "name": "#%%\n"
    }
   }
  },
  {
   "cell_type": "markdown",
   "source": [
    "# Load data"
   ],
   "metadata": {
    "collapsed": false,
    "pycharm": {
     "name": "#%% md\n"
    }
   }
  },
  {
   "cell_type": "code",
   "execution_count": 11,
   "outputs": [],
   "source": [
    "df = pd.read_csv('../../03_Data/01_Tables/bernTableElectrodeLoc.csv')\n",
    "\n",
    "# Filter table if needed (in this case: only right hemisphere leads are used)\n",
    "df = df.loc[np.logical_not(np.mod(2*df.leadID, 2).astype(bool))]\n",
    "df.reset_index(drop=True, inplace=True)\n",
    "\n",
    "# Load map\n",
    "psm = LogRegPSM('../../03_Data/06_Maps/map_v2')"
   ],
   "metadata": {
    "collapsed": false,
    "pycharm": {
     "name": "#%%\n"
    }
   }
  },
  {
   "cell_type": "markdown",
   "source": [
    "# Test leads"
   ],
   "metadata": {
    "collapsed": false,
    "pycharm": {
     "name": "#%% md\n"
    }
   }
  },
  {
   "cell_type": "code",
   "execution_count": 12,
   "outputs": [],
   "source": [
    "def get_correct_ratio(effect_thres):\n",
    "\n",
    "    correct = 0\n",
    "    total = 0\n",
    "\n",
    "\n",
    "    df_level = remove_empty_leads(df)\n",
    "    Lead.set_effect_threshold(effect_thres)\n",
    "\n",
    "    for leadID in np.unique(df_level.leadID):\n",
    "\n",
    "        print('Processing lead #', leadID)\n",
    "        lead = Lead(df, leadID, psm)\n",
    "        best_level_pred = lead.find_best_level()\n",
    "        print('         Best level:', best_level_pred)\n",
    "\n",
    "        if best_level_pred in lead.groundtruth['bestLevel']:\n",
    "            print('         (CORRECT)')\n",
    "            correct += 1\n",
    "\n",
    "        else:\n",
    "            print('         (FALSE) --> GT = ', lead.groundtruth['bestLevel'])\n",
    "\n",
    "        total += 1\n",
    "\n",
    "    return correct/total"
   ],
   "metadata": {
    "collapsed": false,
    "pycharm": {
     "name": "#%%\n"
    }
   }
  },
  {
   "cell_type": "code",
   "execution_count": 13,
   "outputs": [
    {
     "name": "stdout",
     "output_type": "stream",
     "text": [
      "Processing lead # 1.0\n",
      "            GT (level) = [7]\n",
      "   Processing level # 0\n"
     ]
    },
    {
     "ename": "AttributeError",
     "evalue": "'SyntheticVTA' object has no attribute 'center'",
     "output_type": "error",
     "traceback": [
      "\u001B[0;31m---------------------------------------------------------------------------\u001B[0m",
      "\u001B[0;31mAttributeError\u001B[0m                            Traceback (most recent call last)",
      "\u001B[0;32m<ipython-input-13-b30ca0d03c4d>\u001B[0m in \u001B[0;36m<module>\u001B[0;34m\u001B[0m\n\u001B[1;32m      2\u001B[0m \u001B[0mratios\u001B[0m \u001B[0;34m=\u001B[0m \u001B[0;34m[\u001B[0m\u001B[0;34m]\u001B[0m\u001B[0;34m\u001B[0m\u001B[0;34m\u001B[0m\u001B[0m\n\u001B[1;32m      3\u001B[0m \u001B[0;32mfor\u001B[0m \u001B[0meffect_threshold\u001B[0m \u001B[0;32min\u001B[0m \u001B[0meffect_thresholds\u001B[0m\u001B[0;34m:\u001B[0m\u001B[0;34m\u001B[0m\u001B[0;34m\u001B[0m\u001B[0m\n\u001B[0;32m----> 4\u001B[0;31m     \u001B[0mratios\u001B[0m\u001B[0;34m.\u001B[0m\u001B[0mappend\u001B[0m\u001B[0;34m(\u001B[0m\u001B[0mget_correct_ratio\u001B[0m\u001B[0;34m(\u001B[0m\u001B[0meffect_threshold\u001B[0m\u001B[0;34m)\u001B[0m\u001B[0;34m)\u001B[0m\u001B[0;34m\u001B[0m\u001B[0;34m\u001B[0m\u001B[0m\n\u001B[0m\u001B[1;32m      5\u001B[0m \u001B[0;34m\u001B[0m\u001B[0m\n\u001B[1;32m      6\u001B[0m \u001B[0mplt\u001B[0m\u001B[0;34m.\u001B[0m\u001B[0mfigure\u001B[0m\u001B[0;34m(\u001B[0m\u001B[0;34m)\u001B[0m\u001B[0;34m\u001B[0m\u001B[0;34m\u001B[0m\u001B[0m\n",
      "\u001B[0;32m<ipython-input-12-806aea27363a>\u001B[0m in \u001B[0;36mget_correct_ratio\u001B[0;34m(effect_thres)\u001B[0m\n\u001B[1;32m     12\u001B[0m         \u001B[0mprint\u001B[0m\u001B[0;34m(\u001B[0m\u001B[0;34m'Processing lead #'\u001B[0m\u001B[0;34m,\u001B[0m \u001B[0mleadID\u001B[0m\u001B[0;34m)\u001B[0m\u001B[0;34m\u001B[0m\u001B[0;34m\u001B[0m\u001B[0m\n\u001B[1;32m     13\u001B[0m         \u001B[0mlead\u001B[0m \u001B[0;34m=\u001B[0m \u001B[0mLead\u001B[0m\u001B[0;34m(\u001B[0m\u001B[0mdf\u001B[0m\u001B[0;34m,\u001B[0m \u001B[0mleadID\u001B[0m\u001B[0;34m,\u001B[0m \u001B[0mpsm\u001B[0m\u001B[0;34m)\u001B[0m\u001B[0;34m\u001B[0m\u001B[0;34m\u001B[0m\u001B[0m\n\u001B[0;32m---> 14\u001B[0;31m         \u001B[0mbest_level_pred\u001B[0m \u001B[0;34m=\u001B[0m \u001B[0mlead\u001B[0m\u001B[0;34m.\u001B[0m\u001B[0mfind_best_level\u001B[0m\u001B[0;34m(\u001B[0m\u001B[0;34m)\u001B[0m\u001B[0;34m\u001B[0m\u001B[0;34m\u001B[0m\u001B[0m\n\u001B[0m\u001B[1;32m     15\u001B[0m         \u001B[0mprint\u001B[0m\u001B[0;34m(\u001B[0m\u001B[0;34m'         Best level:'\u001B[0m\u001B[0;34m,\u001B[0m \u001B[0mbest_level_pred\u001B[0m\u001B[0;34m)\u001B[0m\u001B[0;34m\u001B[0m\u001B[0;34m\u001B[0m\u001B[0m\n\u001B[1;32m     16\u001B[0m \u001B[0;34m\u001B[0m\u001B[0m\n",
      "\u001B[0;32m<ipython-input-8-56c0a1717e44>\u001B[0m in \u001B[0;36mfind_best_level\u001B[0;34m(self)\u001B[0m\n\u001B[1;32m     44\u001B[0m \u001B[0;34m\u001B[0m\u001B[0m\n\u001B[1;32m     45\u001B[0m             \u001B[0mprint\u001B[0m\u001B[0;34m(\u001B[0m\u001B[0;34m'   Processing level #'\u001B[0m\u001B[0;34m,\u001B[0m \u001B[0mlevel\u001B[0m\u001B[0;34m.\u001B[0m\u001B[0mcontactID\u001B[0m\u001B[0;34m)\u001B[0m\u001B[0;34m\u001B[0m\u001B[0;34m\u001B[0m\u001B[0m\n\u001B[0;32m---> 46\u001B[0;31m             \u001B[0mtherapeutic_window\u001B[0m \u001B[0;34m=\u001B[0m \u001B[0mself\u001B[0m\u001B[0;34m.\u001B[0m\u001B[0mfind_therapeutic_window\u001B[0m\u001B[0;34m(\u001B[0m\u001B[0mlevel\u001B[0m\u001B[0;34m)\u001B[0m\u001B[0;34m\u001B[0m\u001B[0;34m\u001B[0m\u001B[0m\n\u001B[0m\u001B[1;32m     47\u001B[0m             \u001B[0mall_therapeutic_windows\u001B[0m\u001B[0;34m.\u001B[0m\u001B[0mappend\u001B[0m\u001B[0;34m(\u001B[0m\u001B[0mtherapeutic_window\u001B[0m\u001B[0;34m)\u001B[0m\u001B[0;34m\u001B[0m\u001B[0;34m\u001B[0m\u001B[0m\n\u001B[1;32m     48\u001B[0m \u001B[0;34m\u001B[0m\u001B[0m\n",
      "\u001B[0;32m<ipython-input-8-56c0a1717e44>\u001B[0m in \u001B[0;36mfind_therapeutic_window\u001B[0;34m(self, level)\u001B[0m\n\u001B[1;32m     76\u001B[0m         \u001B[0;32mwhile\u001B[0m \u001B[0;32mnot\u001B[0m \u001B[0mstim\u001B[0m\u001B[0;34m.\u001B[0m\u001B[0mnext\u001B[0m\u001B[0;34m(\u001B[0m\u001B[0;34m)\u001B[0m\u001B[0;34m:\u001B[0m\u001B[0;34m\u001B[0m\u001B[0;34m\u001B[0m\u001B[0m\n\u001B[1;32m     77\u001B[0m             \u001B[0;31m# Get the synthetic VTA\u001B[0m\u001B[0;34m\u001B[0m\u001B[0;34m\u001B[0m\u001B[0;34m\u001B[0m\u001B[0m\n\u001B[0;32m---> 78\u001B[0;31m             \u001B[0mvta_image\u001B[0m\u001B[0;34m,\u001B[0m \u001B[0mvta_amp\u001B[0m \u001B[0;34m=\u001B[0m \u001B[0mstim\u001B[0m\u001B[0;34m.\u001B[0m\u001B[0mget_vta\u001B[0m\u001B[0;34m(\u001B[0m\u001B[0;34m)\u001B[0m\u001B[0;34m\u001B[0m\u001B[0;34m\u001B[0m\u001B[0m\n\u001B[0m\u001B[1;32m     79\u001B[0m \u001B[0;34m\u001B[0m\u001B[0m\n\u001B[1;32m     80\u001B[0m             \u001B[0;31m# Compute estimation\u001B[0m\u001B[0;34m\u001B[0m\u001B[0;34m\u001B[0m\u001B[0;34m\u001B[0m\u001B[0m\n",
      "\u001B[0;32m<ipython-input-5-44a61db57da6>\u001B[0m in \u001B[0;36mget_vta\u001B[0;34m(self, disp)\u001B[0m\n\u001B[1;32m     49\u001B[0m \u001B[0;34m\u001B[0m\u001B[0m\n\u001B[1;32m     50\u001B[0m         \u001B[0;31m# Creates the image with synthetic VTA\u001B[0m\u001B[0;34m\u001B[0m\u001B[0;34m\u001B[0m\u001B[0;34m\u001B[0m\u001B[0m\n\u001B[0;32m---> 51\u001B[0;31m         \u001B[0mspam\u001B[0m\u001B[0;34m.\u001B[0m\u001B[0mkalisphera\u001B[0m\u001B[0;34m.\u001B[0m\u001B[0mmakeSphere\u001B[0m\u001B[0;34m(\u001B[0m\u001B[0mvta_image\u001B[0m\u001B[0;34m,\u001B[0m \u001B[0mself\u001B[0m\u001B[0;34m.\u001B[0m\u001B[0mcenter\u001B[0m\u001B[0;34m,\u001B[0m \u001B[0mvta_radius\u001B[0m\u001B[0;34m)\u001B[0m\u001B[0;34m\u001B[0m\u001B[0;34m\u001B[0m\u001B[0m\n\u001B[0m\u001B[1;32m     52\u001B[0m \u001B[0;34m\u001B[0m\u001B[0m\n\u001B[1;32m     53\u001B[0m         \u001B[0;32mif\u001B[0m \u001B[0mdisp\u001B[0m\u001B[0;34m:\u001B[0m\u001B[0;34m\u001B[0m\u001B[0;34m\u001B[0m\u001B[0m\n",
      "\u001B[0;31mAttributeError\u001B[0m: 'SyntheticVTA' object has no attribute 'center'"
     ]
    }
   ],
   "source": [
    "effect_thresholds = np.linspace(0, 1, 10)\n",
    "ratios = []\n",
    "for effect_threshold in effect_thresholds:\n",
    "    ratios.append(get_correct_ratio(effect_threshold))\n",
    "\n",
    "plt.figure()\n",
    "\n",
    "plt.plot(effect_thresholds, ratios)\n",
    "plt.xlabel(\"effect threshold\")\n",
    "plt.ylabel(\"ratio of correct guess\")\n",
    "plt.show()"
   ],
   "metadata": {
    "collapsed": false,
    "pycharm": {
     "name": "#%%\n"
    }
   }
  },
  {
   "cell_type": "code",
   "execution_count": 74,
   "outputs": [],
   "source": [],
   "metadata": {
    "collapsed": false,
    "pycharm": {
     "name": "#%%\n"
    }
   }
  },
  {
   "cell_type": "code",
   "execution_count": null,
   "outputs": [],
   "source": [],
   "metadata": {
    "collapsed": false,
    "pycharm": {
     "name": "#%%\n"
    }
   }
  }
 ],
 "metadata": {
  "kernelspec": {
   "name": "psm",
   "language": "python",
   "display_name": "PSM"
  },
  "language_info": {
   "codemirror_mode": {
    "name": "ipython",
    "version": 2
   },
   "file_extension": ".py",
   "mimetype": "text/x-python",
   "name": "python",
   "nbconvert_exporter": "python",
   "pygments_lexer": "ipython2",
   "version": "2.7.6"
  }
 },
 "nbformat": 4,
 "nbformat_minor": 0
}